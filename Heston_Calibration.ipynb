{
  "cells": [
    {
      "cell_type": "markdown",
      "metadata": {
        "id": "view-in-github",
        "colab_type": "text"
      },
      "source": [
        "<a href=\"https://colab.research.google.com/github/cbje18/P9/blob/main/Heston_Calibration.ipynb\" target=\"_parent\"><img src=\"https://colab.research.google.com/assets/colab-badge.svg\" alt=\"Open In Colab\"/></a>"
      ]
    },
    {
      "cell_type": "markdown",
      "source": [
        "In this notebook, we implement the Heston semi-analytical formula for pricing European call options. We then use this pricing formula to calibrate the model to a dataset consisting of call options written on the SPY ETF, which tracks the S&P-500 index."
      ],
      "metadata": {
        "id": "iJg-cEt2BaOC"
      }
    },
    {
      "cell_type": "code",
      "execution_count": 1,
      "metadata": {
        "colab": {
          "base_uri": "https://localhost:8080/"
        },
        "id": "hzyIR8UXZRGL",
        "outputId": "11944e0b-0178-4376-b801-617edbfd36de"
      },
      "outputs": [
        {
          "output_type": "stream",
          "name": "stdout",
          "text": [
            "Collecting eod\n",
            "  Downloading eod-0.2.1-py3-none-any.whl (45 kB)\n",
            "\u001b[?25l     \u001b[90m━━━━━━━━━━━━━━━━━━━━━━━━━━━━━━━━━━━━━━━━\u001b[0m \u001b[32m0.0/45.9 kB\u001b[0m \u001b[31m?\u001b[0m eta \u001b[36m-:--:--\u001b[0m\r\u001b[2K     \u001b[90m━━━━━━━━━━━━━━━━━━━━━━━━━━━━━━━━━━━━━━━━\u001b[0m \u001b[32m45.9/45.9 kB\u001b[0m \u001b[31m1.6 MB/s\u001b[0m eta \u001b[36m0:00:00\u001b[0m\n",
            "\u001b[?25hRequirement already satisfied: numpy in /usr/local/lib/python3.10/dist-packages (from eod) (1.23.5)\n",
            "Requirement already satisfied: pandas in /usr/local/lib/python3.10/dist-packages (from eod) (1.5.3)\n",
            "Requirement already satisfied: requests in /usr/local/lib/python3.10/dist-packages (from eod) (2.31.0)\n",
            "Requirement already satisfied: python-dateutil>=2.8.1 in /usr/local/lib/python3.10/dist-packages (from pandas->eod) (2.8.2)\n",
            "Requirement already satisfied: pytz>=2020.1 in /usr/local/lib/python3.10/dist-packages (from pandas->eod) (2023.3.post1)\n",
            "Requirement already satisfied: charset-normalizer<4,>=2 in /usr/local/lib/python3.10/dist-packages (from requests->eod) (3.3.2)\n",
            "Requirement already satisfied: idna<4,>=2.5 in /usr/local/lib/python3.10/dist-packages (from requests->eod) (3.4)\n",
            "Requirement already satisfied: urllib3<3,>=1.21.1 in /usr/local/lib/python3.10/dist-packages (from requests->eod) (2.0.7)\n",
            "Requirement already satisfied: certifi>=2017.4.17 in /usr/local/lib/python3.10/dist-packages (from requests->eod) (2023.7.22)\n",
            "Requirement already satisfied: six>=1.5 in /usr/local/lib/python3.10/dist-packages (from python-dateutil>=2.8.1->pandas->eod) (1.16.0)\n",
            "Installing collected packages: eod\n",
            "Successfully installed eod-0.2.1\n",
            "Collecting nelson_siegel_svensson\n",
            "  Downloading nelson_siegel_svensson-0.5.0-py2.py3-none-any.whl (9.9 kB)\n",
            "Requirement already satisfied: Click>=8.0 in /usr/local/lib/python3.10/dist-packages (from nelson_siegel_svensson) (8.1.7)\n",
            "Requirement already satisfied: numpy>=1.22 in /usr/local/lib/python3.10/dist-packages (from nelson_siegel_svensson) (1.23.5)\n",
            "Requirement already satisfied: scipy>=1.7 in /usr/local/lib/python3.10/dist-packages (from nelson_siegel_svensson) (1.11.3)\n",
            "Requirement already satisfied: matplotlib>=3.5 in /usr/local/lib/python3.10/dist-packages (from nelson_siegel_svensson) (3.7.1)\n",
            "Requirement already satisfied: contourpy>=1.0.1 in /usr/local/lib/python3.10/dist-packages (from matplotlib>=3.5->nelson_siegel_svensson) (1.2.0)\n",
            "Requirement already satisfied: cycler>=0.10 in /usr/local/lib/python3.10/dist-packages (from matplotlib>=3.5->nelson_siegel_svensson) (0.12.1)\n",
            "Requirement already satisfied: fonttools>=4.22.0 in /usr/local/lib/python3.10/dist-packages (from matplotlib>=3.5->nelson_siegel_svensson) (4.44.3)\n",
            "Requirement already satisfied: kiwisolver>=1.0.1 in /usr/local/lib/python3.10/dist-packages (from matplotlib>=3.5->nelson_siegel_svensson) (1.4.5)\n",
            "Requirement already satisfied: packaging>=20.0 in /usr/local/lib/python3.10/dist-packages (from matplotlib>=3.5->nelson_siegel_svensson) (23.2)\n",
            "Requirement already satisfied: pillow>=6.2.0 in /usr/local/lib/python3.10/dist-packages (from matplotlib>=3.5->nelson_siegel_svensson) (9.4.0)\n",
            "Requirement already satisfied: pyparsing>=2.3.1 in /usr/local/lib/python3.10/dist-packages (from matplotlib>=3.5->nelson_siegel_svensson) (3.1.1)\n",
            "Requirement already satisfied: python-dateutil>=2.7 in /usr/local/lib/python3.10/dist-packages (from matplotlib>=3.5->nelson_siegel_svensson) (2.8.2)\n",
            "Requirement already satisfied: six>=1.5 in /usr/local/lib/python3.10/dist-packages (from python-dateutil>=2.7->matplotlib>=3.5->nelson_siegel_svensson) (1.16.0)\n",
            "Installing collected packages: nelson_siegel_svensson\n",
            "Successfully installed nelson_siegel_svensson-0.5.0\n",
            "Collecting polygon-api-client\n",
            "  Downloading polygon_api_client-1.13.0-py3-none-any.whl (40 kB)\n",
            "\u001b[2K     \u001b[90m━━━━━━━━━━━━━━━━━━━━━━━━━━━━━━━━━━━━━━━━\u001b[0m \u001b[32m40.2/40.2 kB\u001b[0m \u001b[31m432.7 kB/s\u001b[0m eta \u001b[36m0:00:00\u001b[0m\n",
            "\u001b[?25hRequirement already satisfied: certifi<2024.0.0,>=2022.5.18 in /usr/local/lib/python3.10/dist-packages (from polygon-api-client) (2023.7.22)\n",
            "Collecting urllib3<2.0.0,>=1.26.9 (from polygon-api-client)\n",
            "  Downloading urllib3-1.26.18-py2.py3-none-any.whl (143 kB)\n",
            "\u001b[2K     \u001b[90m━━━━━━━━━━━━━━━━━━━━━━━━━━━━━━━━━━━━━━━━\u001b[0m \u001b[32m143.8/143.8 kB\u001b[0m \u001b[31m4.2 MB/s\u001b[0m eta \u001b[36m0:00:00\u001b[0m\n",
            "\u001b[?25hCollecting websockets<12.0,>=10.3 (from polygon-api-client)\n",
            "  Downloading websockets-11.0.3-cp310-cp310-manylinux_2_5_x86_64.manylinux1_x86_64.manylinux_2_17_x86_64.manylinux2014_x86_64.whl (129 kB)\n",
            "\u001b[2K     \u001b[90m━━━━━━━━━━━━━━━━━━━━━━━━━━━━━━━━━━━━━━━━\u001b[0m \u001b[32m129.9/129.9 kB\u001b[0m \u001b[31m5.2 MB/s\u001b[0m eta \u001b[36m0:00:00\u001b[0m\n",
            "\u001b[?25hInstalling collected packages: websockets, urllib3, polygon-api-client\n",
            "  Attempting uninstall: urllib3\n",
            "    Found existing installation: urllib3 2.0.7\n",
            "    Uninstalling urllib3-2.0.7:\n",
            "      Successfully uninstalled urllib3-2.0.7\n",
            "Successfully installed polygon-api-client-1.13.0 urllib3-1.26.18 websockets-11.0.3\n"
          ]
        }
      ],
      "source": [
        "#Install dependencies first\n",
        "!pip install eod\n",
        "!pip install nelson_siegel_svensson\n",
        "!pip install polygon-api-client"
      ]
    },
    {
      "cell_type": "code",
      "execution_count": 2,
      "metadata": {
        "id": "K7pjoC4cZbZn"
      },
      "outputs": [],
      "source": [
        "#Import needed libraries and functions\n",
        "import os\n",
        "import numpy as np\n",
        "import pandas as pd\n",
        "import matplotlib.pyplot as plt\n",
        "\n",
        "from scipy.stats import norm\n",
        "from scipy.integrate import quad\n",
        "from scipy.optimize import minimize\n",
        "from scipy.optimize import fsolve\n",
        "from datetime import datetime as dt\n",
        "\n",
        "from eod import EodHistoricalData\n",
        "from nelson_siegel_svensson import NelsonSiegelSvenssonCurve\n",
        "from nelson_siegel_svensson.calibrate import calibrate_nss_ols"
      ]
    },
    {
      "cell_type": "code",
      "execution_count": 3,
      "metadata": {
        "id": "sXtXzaZzokTi"
      },
      "outputs": [],
      "source": [
        "#First compute the characteristic function\n",
        "def heston_charfunc(phi, S0, v0, kappa, theta, sigma, rho, tau, r):\n",
        "\n",
        "    # constants\n",
        "    a = kappa*theta\n",
        "    b = kappa\n",
        "\n",
        "    # common terms w.r.t phi\n",
        "    rspi = rho*sigma*phi*1j\n",
        "\n",
        "    # define d parameter given phi and b\n",
        "    d = np.sqrt( (rho*sigma*phi*1j - b)**2 + (phi*1j+phi**2)*sigma**2 )\n",
        "\n",
        "    # define g parameter given phi, b and d\n",
        "    g = (b-rspi+d)/(b-rspi-d)\n",
        "\n",
        "    # calculate characteristic function by components\n",
        "    exp1 = np.exp(r*phi*1j*tau)\n",
        "    term2 = S0**(phi*1j) * ( (1-g*np.exp(d*tau))/(1-g) )**(-2*a/sigma**2)\n",
        "    exp2 = np.exp(a*tau*(b-rspi+d)/sigma**2 + v0*(b-rspi+d)*( (1-np.exp(d*tau))/(1-g*np.exp(d*tau)) )/sigma**2)\n",
        "    return exp1*term2*exp2"
      ]
    },
    {
      "cell_type": "code",
      "execution_count": 4,
      "metadata": {
        "id": "XDK9vMAlopld"
      },
      "outputs": [],
      "source": [
        "#Define the integrand as a function\n",
        "def integrand(phi, S0, v0, kappa, theta, sigma, rho, tau, r):\n",
        "    args = (S0, v0, kappa, theta, sigma, rho, tau, r)\n",
        "    numerator = np.exp(r*tau)*heston_charfunc(phi-1j,*args) - K*heston_charfunc(phi,*args)\n",
        "    denominator = 1j*phi*K**(1j*phi)\n",
        "    return numerator/denominator"
      ]
    },
    {
      "cell_type": "code",
      "execution_count": 5,
      "metadata": {
        "id": "G_MvmzUEpUhm"
      },
      "outputs": [],
      "source": [
        "#Compute the price. We compute the Fourier integral using rectangular integration.\n",
        "def heston_price_rec(S0, K, v0, kappa, theta, sigma, rho, tau, r):\n",
        "    args = (S0, v0, kappa, theta, sigma, rho, tau, r)\n",
        "\n",
        "    P, umax, N = 0, 100, 10000\n",
        "    dphi=umax/N #dphi is width\n",
        "    for i in range(1,N):\n",
        "        # rectangular integration\n",
        "        phi = dphi * (2*i + 1)/2 # midpoint to calculate height\n",
        "        numerator = np.exp(r*tau)*heston_charfunc(phi-1j,*args) - K * heston_charfunc(phi,*args)\n",
        "        denominator = 1j*phi*K**(1j*phi)\n",
        "\n",
        "        P += dphi * numerator/denominator\n",
        "\n",
        "    return np.real((S0 - K*np.exp(-r*tau))/2 + P/np.pi)"
      ]
    },
    {
      "cell_type": "markdown",
      "source": [
        "I now want to test this implementation. Firstly, I define the Black & Scholes formula for European call options, since I will use this to compute the implied volatility of an option. The B&S-formula is given by:\n",
        "\n",
        "\n",
        "$$ C_{t}=S_{t}N(d_{1}) - e^{-r(T-t)}KN(d_{2}), 0\\leq t \\leq T, $$\n",
        "$$ d_{1}=\\frac{\\ln(S_{t}/K) + (r+σ^2/2)(T-t)}{\\sigma \\sqrt{T-t}},$$\n",
        "$$d_{2}= d_{1}-\\sigma \\sqrt{T-t}.$$\n"
      ],
      "metadata": {
        "id": "zlkl7ZJaDK_X"
      }
    },
    {
      "cell_type": "code",
      "source": [
        "#Implementing the B&S-formula\n",
        "def BS(S, K, ttm, vol):\n",
        "  d1 = (np.log(S/K) + (r + (vol**2)/2)*ttm)/(vol*np.sqrt(ttm))\n",
        "  d2 = d1 - vol*np.sqrt(ttm)\n",
        "  return S*norm.cdf(d1) - np.exp(-r*ttm)*K*norm.cdf(d2)"
      ],
      "metadata": {
        "id": "bEMLQSuUFl92"
      },
      "execution_count": 6,
      "outputs": []
    },
    {
      "cell_type": "markdown",
      "source": [
        "We now create some test data to test the above formula. We will use 100 strike prices $K$ ranging from 60 to 140 and time to expirations $\\tau=T-t$ will range from $0.01$ to $0.25$. I will set the interest rate $r=5\\%$, which is close to Fed Funds Rate, which I guess is good enough. We assume that the current stock price is at 100, and volatility $σ=0.02$."
      ],
      "metadata": {
        "id": "V-8dpJYCOgbC"
      }
    },
    {
      "cell_type": "code",
      "source": [
        "#Define parameters\n",
        "strikes = np.linspace(start = 60, stop = 140, num = 100)\n",
        "ttms = np.linspace(start = 0.01, stop = 0.25, num = 100)\n",
        "r = 0.05\n",
        "S = 100\n",
        "vol = 0.02\n",
        "\n",
        "#Compute the BS-prices and store them in a list\n",
        "BS_prices = []\n",
        "for i in range(0,100):\n",
        "  BS_pr = BS(S, strikes[i], ttms[i], vol)\n",
        "  BS_prices.append(BS_pr)\n",
        ""
      ],
      "metadata": {
        "id": "JdNZcocgNKlW"
      },
      "execution_count": 26,
      "outputs": []
    },
    {
      "cell_type": "code",
      "source": [
        "#Try to plot the surface with the prices as z-axis\n",
        "from mpl_toolkits import mplot3d\n",
        "from matplotlib import cm\n",
        "from matplotlib.ticker import LinearLocator\n",
        "import plotly.graph_objects as go\n",
        "\n",
        "# Creating plot\n",
        "x = strikes\n",
        "y = ttms\n",
        "X,Y = np.meshgrid(x,y)\n",
        "Z = BS(S, X,Y, vol)\n",
        "\n",
        "fig, ax = plt.subplots(subplot_kw={\"projection\": \"3d\"})\n",
        "\n",
        "surf = ax.plot_surface(X, Y, Z, cmap=cm.coolwarm,\n",
        "                       linewidth=0, antialiased=False)\n",
        "fig.colorbar(surf, shrink=0.5, aspect=5)\n",
        "\n",
        "ax.set_xlabel(\"Strike Price\")\n",
        "ax.set_ylabel(\"Time to Maturity\")\n",
        "ax.set_zlabel(\"Option Price\")\n",
        "\n",
        "plt.show()"
      ],
      "metadata": {
        "colab": {
          "base_uri": "https://localhost:8080/",
          "height": 415
        },
        "id": "TlBIoXpURJ-o",
        "outputId": "73f67cdd-3e88-42ab-cf09-56ae328921dc"
      },
      "execution_count": 27,
      "outputs": [
        {
          "output_type": "display_data",
          "data": {
            "text/plain": [
              "<Figure size 640x480 with 2 Axes>"
            ],
            "image/png": "[encoded data removed]"
          },
          "metadata": {}
        }
      ]
    },
    {
      "cell_type": "markdown",
      "source": [
        "The surface looks as expected. We now turn to implied volatility. If $\\Pi_{t}$ denotes the market price of a call option with strike $K$ and time to maturity $\\tau = T-t$, and $C^{BS}(\\tau, K, \\sigma)$ denotes the Black & Scholes calculated price of the same option, then the implied volatility $\\sigma_{BS}>0$ of said option is given by\n",
        "\n",
        "$$ \\sigma_{BS}=\\underset{\\sigma}{\\textrm{arg min}}\\hspace{5 pt} \\Pi_{t} - C^{BS}(\\tau, K, \\sigma) $$.\n",
        "\n",
        "So finding the implied volatility is a matter of finding the root of $\\Pi_{t}- C^{BS}$. I will firstly define the function as a function of the volatility $\\sigma$, and then use fsolve for root findind."
      ],
      "metadata": {
        "id": "uNouWhPNnhZY"
      }
    },
    {
      "cell_type": "code",
      "source": [],
      "metadata": {
        "id": "-YFUGXvaxyoE"
      },
      "execution_count": null,
      "outputs": []
    },
    {
      "cell_type": "code",
      "execution_count": null,
      "metadata": {
        "colab": {
          "base_uri": "https://localhost:8080/",
          "height": 73
        },
        "id": "HLn_QbMYZ0GQ",
        "outputId": "32c546f9-2298-4146-f895-7aa44f6d53e4"
      },
      "outputs": [
        {
          "output_type": "display_data",
          "data": {
            "text/plain": [
              "<IPython.core.display.HTML object>"
            ],
            "text/html": [
              "\n",
              "     <input type=\"file\" id=\"files-8308149a-3d32-4638-bb9f-8cde0a74b76a\" name=\"files[]\" multiple disabled\n",
              "        style=\"border:none\" />\n",
              "     <output id=\"result-8308149a-3d32-4638-bb9f-8cde0a74b76a\">\n",
              "      Upload widget is only available when the cell has been executed in the\n",
              "      current browser session. Please rerun this cell to enable.\n",
              "      </output>\n",
              "      <script>// Copyright 2017 Google LLC\n",
              "//\n",
              "// Licensed under the Apache License, Version 2.0 (the \"License\");\n",
              "// you may not use this file except in compliance with the License.\n",
              "// You may obtain a copy of the License at\n",
              "//\n",
              "//      http://www.apache.org/licenses/LICENSE-2.0\n",
              "//\n",
              "// Unless required by applicable law or agreed to in writing, software\n",
              "// distributed under the License is distributed on an \"AS IS\" BASIS,\n",
              "// WITHOUT WARRANTIES OR CONDITIONS OF ANY KIND, either express or implied.\n",
              "// See the License for the specific language governing permissions and\n",
              "// limitations under the License.\n",
              "\n",
              "/**\n",
              " * @fileoverview Helpers for google.colab Python module.\n",
              " */\n",
              "(function(scope) {\n",
              "function span(text, styleAttributes = {}) {\n",
              "  const element = document.createElement('span');\n",
              "  element.textContent = text;\n",
              "  for (const key of Object.keys(styleAttributes)) {\n",
              "    element.style[key] = styleAttributes[key];\n",
              "  }\n",
              "  return element;\n",
              "}\n",
              "\n",
              "// Max number of bytes which will be uploaded at a time.\n",
              "const MAX_PAYLOAD_SIZE = 100 * 1024;\n",
              "\n",
              "function _uploadFiles(inputId, outputId) {\n",
              "  const steps = uploadFilesStep(inputId, outputId);\n",
              "  const outputElement = document.getElementById(outputId);\n",
              "  // Cache steps on the outputElement to make it available for the next call\n",
              "  // to uploadFilesContinue from Python.\n",
              "  outputElement.steps = steps;\n",
              "\n",
              "  return _uploadFilesContinue(outputId);\n",
              "}\n",
              "\n",
              "// This is roughly an async generator (not supported in the browser yet),\n",
              "// where there are multiple asynchronous steps and the Python side is going\n",
              "// to poll for completion of each step.\n",
              "// This uses a Promise to block the python side on completion of each step,\n",
              "// then passes the result of the previous step as the input to the next step.\n",
              "function _uploadFilesContinue(outputId) {\n",
              "  const outputElement = document.getElementById(outputId);\n",
              "  const steps = outputElement.steps;\n",
              "\n",
              "  const next = steps.next(outputElement.lastPromiseValue);\n",
              "  return Promise.resolve(next.value.promise).then((value) => {\n",
              "    // Cache the last promise value to make it available to the next\n",
              "    // step of the generator.\n",
              "    outputElement.lastPromiseValue = value;\n",
              "    return next.value.response;\n",
              "  });\n",
              "}\n",
              "\n",
              "/**\n",
              " * Generator function which is called between each async step of the upload\n",
              " * process.\n",
              " * @param {string} inputId Element ID of the input file picker element.\n",
              " * @param {string} outputId Element ID of the output display.\n",
              " * @return {!Iterable<!Object>} Iterable of next steps.\n",
              " */\n",
              "function* uploadFilesStep(inputId, outputId) {\n",
              "  const inputElement = document.getElementById(inputId);\n",
              "  inputElement.disabled = false;\n",
              "\n",
              "  const outputElement = document.getElementById(outputId);\n",
              "  outputElement.innerHTML = '';\n",
              "\n",
              "  const pickedPromise = new Promise((resolve) => {\n",
              "    inputElement.addEventListener('change', (e) => {\n",
              "      resolve(e.target.files);\n",
              "    });\n",
              "  });\n",
              "\n",
              "  const cancel = document.createElement('button');\n",
              "  inputElement.parentElement.appendChild(cancel);\n",
              "  cancel.textContent = 'Cancel upload';\n",
              "  const cancelPromise = new Promise((resolve) => {\n",
              "    cancel.onclick = () => {\n",
              "      resolve(null);\n",
              "    };\n",
              "  });\n",
              "\n",
              "  // Wait for the user to pick the files.\n",
              "  const files = yield {\n",
              "    promise: Promise.race([pickedPromise, cancelPromise]),\n",
              "    response: {\n",
              "      action: 'starting',\n",
              "    }\n",
              "  };\n",
              "\n",
              "  cancel.remove();\n",
              "\n",
              "  // Disable the input element since further picks are not allowed.\n",
              "  inputElement.disabled = true;\n",
              "\n",
              "  if (!files) {\n",
              "    return {\n",
              "      response: {\n",
              "        action: 'complete',\n",
              "      }\n",
              "    };\n",
              "  }\n",
              "\n",
              "  for (const file of files) {\n",
              "    const li = document.createElement('li');\n",
              "    li.append(span(file.name, {fontWeight: 'bold'}));\n",
              "    li.append(span(\n",
              "        `(${file.type || 'n/a'}) - ${file.size} bytes, ` +\n",
              "        `last modified: ${\n",
              "            file.lastModifiedDate ? file.lastModifiedDate.toLocaleDateString() :\n",
              "                                    'n/a'} - `));\n",
              "    const percent = span('0% done');\n",
              "    li.appendChild(percent);\n",
              "\n",
              "    outputElement.appendChild(li);\n",
              "\n",
              "    const fileDataPromise = new Promise((resolve) => {\n",
              "      const reader = new FileReader();\n",
              "      reader.onload = (e) => {\n",
              "        resolve(e.target.result);\n",
              "      };\n",
              "      reader.readAsArrayBuffer(file);\n",
              "    });\n",
              "    // Wait for the data to be ready.\n",
              "    let fileData = yield {\n",
              "      promise: fileDataPromise,\n",
              "      response: {\n",
              "        action: 'continue',\n",
              "      }\n",
              "    };\n",
              "\n",
              "    // Use a chunked sending to avoid message size limits. See b/62115660.\n",
              "    let position = 0;\n",
              "    do {\n",
              "      const length = Math.min(fileData.byteLength - position, MAX_PAYLOAD_SIZE);\n",
              "      const chunk = new Uint8Array(fileData, position, length);\n",
              "      position += length;\n",
              "\n",
              "      const base64 = btoa(String.fromCharCode.apply(null, chunk));\n",
              "      yield {\n",
              "        response: {\n",
              "          action: 'append',\n",
              "          file: file.name,\n",
              "          data: base64,\n",
              "        },\n",
              "      };\n",
              "\n",
              "      let percentDone = fileData.byteLength === 0 ?\n",
              "          100 :\n",
              "          Math.round((position / fileData.byteLength) * 100);\n",
              "      percent.textContent = `${percentDone}% done`;\n",
              "\n",
              "    } while (position < fileData.byteLength);\n",
              "  }\n",
              "\n",
              "  // All done.\n",
              "  yield {\n",
              "    response: {\n",
              "      action: 'complete',\n",
              "    }\n",
              "  };\n",
              "}\n",
              "\n",
              "scope.google = scope.google || {};\n",
              "scope.google.colab = scope.google.colab || {};\n",
              "scope.google.colab._files = {\n",
              "  _uploadFiles,\n",
              "  _uploadFilesContinue,\n",
              "};\n",
              "})(self);\n",
              "</script> "
            ]
          },
          "metadata": {}
        },
        {
          "output_type": "stream",
          "name": "stdout",
          "text": [
            "Saving option_data_spy.csv to option_data_spy.csv\n"
          ]
        }
      ],
      "source": [
        "#Import the data set into Google Colaboratory. The data file is in GitHub.\n",
        "from google.colab import files\n",
        "uploaded = files.upload()"
      ]
    },
    {
      "cell_type": "code",
      "execution_count": null,
      "metadata": {
        "id": "Mi7XlR9Rh0xv"
      },
      "outputs": [],
      "source": [
        "import io\n",
        "df2 = pd.read_csv(io.BytesIO(uploaded['option_data_spy.csv']))"
      ]
    },
    {
      "cell_type": "code",
      "execution_count": null,
      "metadata": {
        "colab": {
          "base_uri": "https://localhost:8080/",
          "height": 634
        },
        "id": "rQaC0ii_h5ti",
        "outputId": "17ac6f80-d492-4e06-fe3c-d524d5660ee0"
      },
      "outputs": [
        {
          "output_type": "execute_result",
          "data": {
            "text/plain": [
              "      Unnamed: 0          ContractID ConractSize Currency  Expiration  Strike  \\\n",
              "0              1  SPY231107C00340000     REGULAR      USD  2023-11-07   340.0   \n",
              "1              2  SPY231107C00359000     REGULAR      USD  2023-11-07   359.0   \n",
              "2              3  SPY231107C00362000     REGULAR      USD  2023-11-07   362.0   \n",
              "3              4  SPY231107C00378000     REGULAR      USD  2023-11-07   378.0   \n",
              "4              5  SPY231107C00379000     REGULAR      USD  2023-11-07   379.0   \n",
              "...          ...                 ...         ...      ...         ...     ...   \n",
              "2764        2765  SPY250321C00645000     REGULAR      USD  2025-03-21   645.0   \n",
              "2765        2766  SPY250321C00650000     REGULAR      USD  2025-03-21   650.0   \n",
              "2766        2767  SPY250321C00670000     REGULAR      USD  2025-03-21   670.0   \n",
              "2767        2768  SPY250321C00675000     REGULAR      USD  2025-03-21   675.0   \n",
              "2768        2769  SPY250321C00680000     REGULAR      USD  2025-03-21   680.0   \n",
              "\n",
              "       Last  Chg  ChgPct  Bid   Ask   Vol   OI        LastTradeTime        IV  \\\n",
              "0     95.10    0       0  0.0  0.00   7.0    7  2023-11-06 14:54:20  0.000010   \n",
              "1     51.83    0       0  0.0  0.00   1.0    1  2023-10-27 15:12:18  0.000010   \n",
              "2     58.66    0       0  0.0  0.00   1.0    1  2023-11-01 10:19:57  0.000010   \n",
              "3     36.40    0       0  0.0  0.00   2.0    2  2023-10-30 09:31:11  0.000010   \n",
              "4     32.07    0       0  0.0  0.00   2.0    1  2023-10-27 13:57:48  0.000010   \n",
              "...     ...  ...     ...  ...   ...   ...  ...                  ...       ...   \n",
              "2764   0.51    0       0  0.0  0.83   1.0    2  2023-09-29 11:02:57  0.165841   \n",
              "2765   0.40    0       0  0.0  0.00   1.0    2  2023-10-19 09:30:31  0.062509   \n",
              "2766   0.25    0       0  0.0  0.00  11.0   21  2023-10-19 14:17:59  0.062509   \n",
              "2767   0.20    0       0  0.0  0.00   2.0  143  2023-11-03 11:50:24  0.062509   \n",
              "2768   0.20    0       0  0.0  0.00   5.0   76  2023-11-02 09:39:59  0.062509   \n",
              "\n",
              "        ITM  TimeToExp  log_moneyness  \n",
              "0      True   0.000000       0.247985  \n",
              "1      True   0.000000       0.193609  \n",
              "2      True   0.000000       0.185287  \n",
              "3      True   0.000000       0.142037  \n",
              "4      True   0.000000       0.139395  \n",
              "...     ...        ...            ...  \n",
              "2764  False   1.368925      -0.392319  \n",
              "2765  False   1.368925      -0.400041  \n",
              "2766  False   1.368925      -0.430347  \n",
              "2767  False   1.368925      -0.437782  \n",
              "2768  False   1.368925      -0.445162  \n",
              "\n",
              "[2769 rows x 18 columns]"
            ],
            "text/html": [
              "\n",
              "  <div id=\"df-105db78d-29cc-4b51-9c3b-8f62ccd65b96\" class=\"colab-df-container\">\n",
              "    <div>\n",
              "<style scoped>\n",
              "    .dataframe tbody tr th:only-of-type {\n",
              "        vertical-align: middle;\n",
              "    }\n",
              "\n",
              "    .dataframe tbody tr th {\n",
              "        vertical-align: top;\n",
              "    }\n",
              "\n",
              "    .dataframe thead th {\n",
              "        text-align: right;\n",
              "    }\n",
              "</style>\n",
              "<table border=\"1\" class=\"dataframe\">\n",
              "  <thead>\n",
              "    <tr style=\"text-align: right;\">\n",
              "      <th></th>\n",
              "      <th>Unnamed: 0</th>\n",
              "      <th>ContractID</th>\n",
              "      <th>ConractSize</th>\n",
              "      <th>Currency</th>\n",
              "      <th>Expiration</th>\n",
              "      <th>Strike</th>\n",
              "      <th>Last</th>\n",
              "      <th>Chg</th>\n",
              "      <th>ChgPct</th>\n",
              "      <th>Bid</th>\n",
              "      <th>Ask</th>\n",
              "      <th>Vol</th>\n",
              "      <th>OI</th>\n",
              "      <th>LastTradeTime</th>\n",
              "      <th>IV</th>\n",
              "      <th>ITM</th>\n",
              "      <th>TimeToExp</th>\n",
              "      <th>log_moneyness</th>\n",
              "    </tr>\n",
              "  </thead>\n",
              "  <tbody>\n",
              "    <tr>\n",
              "      <th>0</th>\n",
              "      <td>1</td>\n",
              "      <td>SPY231107C00340000</td>\n",
              "      <td>REGULAR</td>\n",
              "      <td>USD</td>\n",
              "      <td>2023-11-07</td>\n",
              "      <td>340.0</td>\n",
              "      <td>95.10</td>\n",
              "      <td>0</td>\n",
              "      <td>0</td>\n",
              "      <td>0.0</td>\n",
              "      <td>0.00</td>\n",
              "      <td>7.0</td>\n",
              "      <td>7</td>\n",
              "      <td>2023-11-06 14:54:20</td>\n",
              "      <td>0.000010</td>\n",
              "      <td>True</td>\n",
              "      <td>0.000000</td>\n",
              "      <td>0.247985</td>\n",
              "    </tr>\n",
              "    <tr>\n",
              "      <th>1</th>\n",
              "      <td>2</td>\n",
              "      <td>SPY231107C00359000</td>\n",
              "      <td>REGULAR</td>\n",
              "      <td>USD</td>\n",
              "      <td>2023-11-07</td>\n",
              "      <td>359.0</td>\n",
              "      <td>51.83</td>\n",
              "      <td>0</td>\n",
              "      <td>0</td>\n",
              "      <td>0.0</td>\n",
              "      <td>0.00</td>\n",
              "      <td>1.0</td>\n",
              "      <td>1</td>\n",
              "      <td>2023-10-27 15:12:18</td>\n",
              "      <td>0.000010</td>\n",
              "      <td>True</td>\n",
              "      <td>0.000000</td>\n",
              "      <td>0.193609</td>\n",
              "    </tr>\n",
              "    <tr>\n",
              "      <th>2</th>\n",
              "      <td>3</td>\n",
              "      <td>SPY231107C00362000</td>\n",
              "      <td>REGULAR</td>\n",
              "      <td>USD</td>\n",
              "      <td>2023-11-07</td>\n",
              "      <td>362.0</td>\n",
              "      <td>58.66</td>\n",
              "      <td>0</td>\n",
              "      <td>0</td>\n",
              "      <td>0.0</td>\n",
              "      <td>0.00</td>\n",
              "      <td>1.0</td>\n",
              "      <td>1</td>\n",
              "      <td>2023-11-01 10:19:57</td>\n",
              "      <td>0.000010</td>\n",
              "      <td>True</td>\n",
              "      <td>0.000000</td>\n",
              "      <td>0.185287</td>\n",
              "    </tr>\n",
              "    <tr>\n",
              "      <th>3</th>\n",
              "      <td>4</td>\n",
              "      <td>SPY231107C00378000</td>\n",
              "      <td>REGULAR</td>\n",
              "      <td>USD</td>\n",
              "      <td>2023-11-07</td>\n",
              "      <td>378.0</td>\n",
              "      <td>36.40</td>\n",
              "      <td>0</td>\n",
              "      <td>0</td>\n",
              "      <td>0.0</td>\n",
              "      <td>0.00</td>\n",
              "      <td>2.0</td>\n",
              "      <td>2</td>\n",
              "      <td>2023-10-30 09:31:11</td>\n",
              "      <td>0.000010</td>\n",
              "      <td>True</td>\n",
              "      <td>0.000000</td>\n",
              "      <td>0.142037</td>\n",
              "    </tr>\n",
              "    <tr>\n",
              "      <th>4</th>\n",
              "      <td>5</td>\n",
              "      <td>SPY231107C00379000</td>\n",
              "      <td>REGULAR</td>\n",
              "      <td>USD</td>\n",
              "      <td>2023-11-07</td>\n",
              "      <td>379.0</td>\n",
              "      <td>32.07</td>\n",
              "      <td>0</td>\n",
              "      <td>0</td>\n",
              "      <td>0.0</td>\n",
              "      <td>0.00</td>\n",
              "      <td>2.0</td>\n",
              "      <td>1</td>\n",
              "      <td>2023-10-27 13:57:48</td>\n",
              "      <td>0.000010</td>\n",
              "      <td>True</td>\n",
              "      <td>0.000000</td>\n",
              "      <td>0.139395</td>\n",
              "    </tr>\n",
              "    <tr>\n",
              "      <th>...</th>\n",
              "      <td>...</td>\n",
              "      <td>...</td>\n",
              "      <td>...</td>\n",
              "      <td>...</td>\n",
              "      <td>...</td>\n",
              "      <td>...</td>\n",
              "      <td>...</td>\n",
              "      <td>...</td>\n",
              "      <td>...</td>\n",
              "      <td>...</td>\n",
              "      <td>...</td>\n",
              "      <td>...</td>\n",
              "      <td>...</td>\n",
              "      <td>...</td>\n",
              "      <td>...</td>\n",
              "      <td>...</td>\n",
              "      <td>...</td>\n",
              "      <td>...</td>\n",
              "    </tr>\n",
              "    <tr>\n",
              "      <th>2764</th>\n",
              "      <td>2765</td>\n",
              "      <td>SPY250321C00645000</td>\n",
              "      <td>REGULAR</td>\n",
              "      <td>USD</td>\n",
              "      <td>2025-03-21</td>\n",
              "      <td>645.0</td>\n",
              "      <td>0.51</td>\n",
              "      <td>0</td>\n",
              "      <td>0</td>\n",
              "      <td>0.0</td>\n",
              "      <td>0.83</td>\n",
              "      <td>1.0</td>\n",
              "      <td>2</td>\n",
              "      <td>2023-09-29 11:02:57</td>\n",
              "      <td>0.165841</td>\n",
              "      <td>False</td>\n",
              "      <td>1.368925</td>\n",
              "      <td>-0.392319</td>\n",
              "    </tr>\n",
              "    <tr>\n",
              "      <th>2765</th>\n",
              "      <td>2766</td>\n",
              "      <td>SPY250321C00650000</td>\n",
              "      <td>REGULAR</td>\n",
              "      <td>USD</td>\n",
              "      <td>2025-03-21</td>\n",
              "      <td>650.0</td>\n",
              "      <td>0.40</td>\n",
              "      <td>0</td>\n",
              "      <td>0</td>\n",
              "      <td>0.0</td>\n",
              "      <td>0.00</td>\n",
              "      <td>1.0</td>\n",
              "      <td>2</td>\n",
              "      <td>2023-10-19 09:30:31</td>\n",
              "      <td>0.062509</td>\n",
              "      <td>False</td>\n",
              "      <td>1.368925</td>\n",
              "      <td>-0.400041</td>\n",
              "    </tr>\n",
              "    <tr>\n",
              "      <th>2766</th>\n",
              "      <td>2767</td>\n",
              "      <td>SPY250321C00670000</td>\n",
              "      <td>REGULAR</td>\n",
              "      <td>USD</td>\n",
              "      <td>2025-03-21</td>\n",
              "      <td>670.0</td>\n",
              "      <td>0.25</td>\n",
              "      <td>0</td>\n",
              "      <td>0</td>\n",
              "      <td>0.0</td>\n",
              "      <td>0.00</td>\n",
              "      <td>11.0</td>\n",
              "      <td>21</td>\n",
              "      <td>2023-10-19 14:17:59</td>\n",
              "      <td>0.062509</td>\n",
              "      <td>False</td>\n",
              "      <td>1.368925</td>\n",
              "      <td>-0.430347</td>\n",
              "    </tr>\n",
              "    <tr>\n",
              "      <th>2767</th>\n",
              "      <td>2768</td>\n",
              "      <td>SPY250321C00675000</td>\n",
              "      <td>REGULAR</td>\n",
              "      <td>USD</td>\n",
              "      <td>2025-03-21</td>\n",
              "      <td>675.0</td>\n",
              "      <td>0.20</td>\n",
              "      <td>0</td>\n",
              "      <td>0</td>\n",
              "      <td>0.0</td>\n",
              "      <td>0.00</td>\n",
              "      <td>2.0</td>\n",
              "      <td>143</td>\n",
              "      <td>2023-11-03 11:50:24</td>\n",
              "      <td>0.062509</td>\n",
              "      <td>False</td>\n",
              "      <td>1.368925</td>\n",
              "      <td>-0.437782</td>\n",
              "    </tr>\n",
              "    <tr>\n",
              "      <th>2768</th>\n",
              "      <td>2769</td>\n",
              "      <td>SPY250321C00680000</td>\n",
              "      <td>REGULAR</td>\n",
              "      <td>USD</td>\n",
              "      <td>2025-03-21</td>\n",
              "      <td>680.0</td>\n",
              "      <td>0.20</td>\n",
              "      <td>0</td>\n",
              "      <td>0</td>\n",
              "      <td>0.0</td>\n",
              "      <td>0.00</td>\n",
              "      <td>5.0</td>\n",
              "      <td>76</td>\n",
              "      <td>2023-11-02 09:39:59</td>\n",
              "      <td>0.062509</td>\n",
              "      <td>False</td>\n",
              "      <td>1.368925</td>\n",
              "      <td>-0.445162</td>\n",
              "    </tr>\n",
              "  </tbody>\n",
              "</table>\n",
              "<p>2769 rows × 18 columns</p>\n",
              "</div>\n",
              "    <div class=\"colab-df-buttons\">\n",
              "\n",
              "  <div class=\"colab-df-container\">\n",
              "    <button class=\"colab-df-convert\" onclick=\"convertToInteractive('df-105db78d-29cc-4b51-9c3b-8f62ccd65b96')\"\n",
              "            title=\"Convert this dataframe to an interactive table.\"\n",
              "            style=\"display:none;\">\n",
              "\n",
              "  <svg xmlns=\"http://www.w3.org/2000/svg\" height=\"24px\" viewBox=\"0 -960 960 960\">\n",
              "    <path d=\"M120-120v-720h720v720H120Zm60-500h600v-160H180v160Zm220 220h160v-160H400v160Zm0 220h160v-160H400v160ZM180-400h160v-160H180v160Zm440 0h160v-160H620v160ZM180-180h160v-160H180v160Zm440 0h160v-160H620v160Z\"/>\n",
              "  </svg>\n",
              "    </button>\n",
              "\n",
              "  <style>\n",
              "    .colab-df-container {\n",
              "      display:flex;\n",
              "      gap: 12px;\n",
              "    }\n",
              "\n",
              "    .colab-df-convert {\n",
              "      background-color: #E8F0FE;\n",
              "      border: none;\n",
              "      border-radius: 50%;\n",
              "      cursor: pointer;\n",
              "      display: none;\n",
              "      fill: #1967D2;\n",
              "      height: 32px;\n",
              "      padding: 0 0 0 0;\n",
              "      width: 32px;\n",
              "    }\n",
              "\n",
              "    .colab-df-convert:hover {\n",
              "      background-color: #E2EBFA;\n",
              "      box-shadow: 0px 1px 2px rgba(60, 64, 67, 0.3), 0px 1px 3px 1px rgba(60, 64, 67, 0.15);\n",
              "      fill: #174EA6;\n",
              "    }\n",
              "\n",
              "    .colab-df-buttons div {\n",
              "      margin-bottom: 4px;\n",
              "    }\n",
              "\n",
              "    [theme=dark] .colab-df-convert {\n",
              "      background-color: #3B4455;\n",
              "      fill: #D2E3FC;\n",
              "    }\n",
              "\n",
              "    [theme=dark] .colab-df-convert:hover {\n",
              "      background-color: #434B5C;\n",
              "      box-shadow: 0px 1px 3px 1px rgba(0, 0, 0, 0.15);\n",
              "      filter: drop-shadow(0px 1px 2px rgba(0, 0, 0, 0.3));\n",
              "      fill: #FFFFFF;\n",
              "    }\n",
              "  </style>\n",
              "\n",
              "    <script>\n",
              "      const buttonEl =\n",
              "        document.querySelector('#df-105db78d-29cc-4b51-9c3b-8f62ccd65b96 button.colab-df-convert');\n",
              "      buttonEl.style.display =\n",
              "        google.colab.kernel.accessAllowed ? 'block' : 'none';\n",
              "\n",
              "      async function convertToInteractive(key) {\n",
              "        const element = document.querySelector('#df-105db78d-29cc-4b51-9c3b-8f62ccd65b96');\n",
              "        const dataTable =\n",
              "          await google.colab.kernel.invokeFunction('convertToInteractive',\n",
              "                                                    [key], {});\n",
              "        if (!dataTable) return;\n",
              "\n",
              "        const docLinkHtml = 'Like what you see? Visit the ' +\n",
              "          '<a target=\"_blank\" href=https://colab.research.google.com/notebooks/data_table.ipynb>data table notebook</a>'\n",
              "          + ' to learn more about interactive tables.';\n",
              "        element.innerHTML = '';\n",
              "        dataTable['output_type'] = 'display_data';\n",
              "        await google.colab.output.renderOutput(dataTable, element);\n",
              "        const docLink = document.createElement('div');\n",
              "        docLink.innerHTML = docLinkHtml;\n",
              "        element.appendChild(docLink);\n",
              "      }\n",
              "    </script>\n",
              "  </div>\n",
              "\n",
              "\n",
              "<div id=\"df-d4bae790-7553-49f2-bf71-b1ad31503cbd\">\n",
              "  <button class=\"colab-df-quickchart\" onclick=\"quickchart('df-d4bae790-7553-49f2-bf71-b1ad31503cbd')\"\n",
              "            title=\"Suggest charts\"\n",
              "            style=\"display:none;\">\n",
              "\n",
              "<svg xmlns=\"http://www.w3.org/2000/svg\" height=\"24px\"viewBox=\"0 0 24 24\"\n",
              "     width=\"24px\">\n",
              "    <g>\n",
              "        <path d=\"M19 3H5c-1.1 0-2 .9-2 2v14c0 1.1.9 2 2 2h14c1.1 0 2-.9 2-2V5c0-1.1-.9-2-2-2zM9 17H7v-7h2v7zm4 0h-2V7h2v10zm4 0h-2v-4h2v4z\"/>\n",
              "    </g>\n",
              "</svg>\n",
              "  </button>\n",
              "\n",
              "<style>\n",
              "  .colab-df-quickchart {\n",
              "      --bg-color: #E8F0FE;\n",
              "      --fill-color: #1967D2;\n",
              "      --hover-bg-color: #E2EBFA;\n",
              "      --hover-fill-color: #174EA6;\n",
              "      --disabled-fill-color: #AAA;\n",
              "      --disabled-bg-color: #DDD;\n",
              "  }\n",
              "\n",
              "  [theme=dark] .colab-df-quickchart {\n",
              "      --bg-color: #3B4455;\n",
              "      --fill-color: #D2E3FC;\n",
              "      --hover-bg-color: #434B5C;\n",
              "      --hover-fill-color: #FFFFFF;\n",
              "      --disabled-bg-color: #3B4455;\n",
              "      --disabled-fill-color: #666;\n",
              "  }\n",
              "\n",
              "  .colab-df-quickchart {\n",
              "    background-color: var(--bg-color);\n",
              "    border: none;\n",
              "    border-radius: 50%;\n",
              "    cursor: pointer;\n",
              "    display: none;\n",
              "    fill: var(--fill-color);\n",
              "    height: 32px;\n",
              "    padding: 0;\n",
              "    width: 32px;\n",
              "  }\n",
              "\n",
              "  .colab-df-quickchart:hover {\n",
              "    background-color: var(--hover-bg-color);\n",
              "    box-shadow: 0 1px 2px rgba(60, 64, 67, 0.3), 0 1px 3px 1px rgba(60, 64, 67, 0.15);\n",
              "    fill: var(--button-hover-fill-color);\n",
              "  }\n",
              "\n",
              "  .colab-df-quickchart-complete:disabled,\n",
              "  .colab-df-quickchart-complete:disabled:hover {\n",
              "    background-color: var(--disabled-bg-color);\n",
              "    fill: var(--disabled-fill-color);\n",
              "    box-shadow: none;\n",
              "  }\n",
              "\n",
              "  .colab-df-spinner {\n",
              "    border: 2px solid var(--fill-color);\n",
              "    border-color: transparent;\n",
              "    border-bottom-color: var(--fill-color);\n",
              "    animation:\n",
              "      spin 1s steps(1) infinite;\n",
              "  }\n",
              "\n",
              "  @keyframes spin {\n",
              "    0% {\n",
              "      border-color: transparent;\n",
              "      border-bottom-color: var(--fill-color);\n",
              "      border-left-color: var(--fill-color);\n",
              "    }\n",
              "    20% {\n",
              "      border-color: transparent;\n",
              "      border-left-color: var(--fill-color);\n",
              "      border-top-color: var(--fill-color);\n",
              "    }\n",
              "    30% {\n",
              "      border-color: transparent;\n",
              "      border-left-color: var(--fill-color);\n",
              "      border-top-color: var(--fill-color);\n",
              "      border-right-color: var(--fill-color);\n",
              "    }\n",
              "    40% {\n",
              "      border-color: transparent;\n",
              "      border-right-color: var(--fill-color);\n",
              "      border-top-color: var(--fill-color);\n",
              "    }\n",
              "    60% {\n",
              "      border-color: transparent;\n",
              "      border-right-color: var(--fill-color);\n",
              "    }\n",
              "    80% {\n",
              "      border-color: transparent;\n",
              "      border-right-color: var(--fill-color);\n",
              "      border-bottom-color: var(--fill-color);\n",
              "    }\n",
              "    90% {\n",
              "      border-color: transparent;\n",
              "      border-bottom-color: var(--fill-color);\n",
              "    }\n",
              "  }\n",
              "</style>\n",
              "\n",
              "  <script>\n",
              "    async function quickchart(key) {\n",
              "      const quickchartButtonEl =\n",
              "        document.querySelector('#' + key + ' button');\n",
              "      quickchartButtonEl.disabled = true;  // To prevent multiple clicks.\n",
              "      quickchartButtonEl.classList.add('colab-df-spinner');\n",
              "      try {\n",
              "        const charts = await google.colab.kernel.invokeFunction(\n",
              "            'suggestCharts', [key], {});\n",
              "      } catch (error) {\n",
              "        console.error('Error during call to suggestCharts:', error);\n",
              "      }\n",
              "      quickchartButtonEl.classList.remove('colab-df-spinner');\n",
              "      quickchartButtonEl.classList.add('colab-df-quickchart-complete');\n",
              "    }\n",
              "    (() => {\n",
              "      let quickchartButtonEl =\n",
              "        document.querySelector('#df-d4bae790-7553-49f2-bf71-b1ad31503cbd button');\n",
              "      quickchartButtonEl.style.display =\n",
              "        google.colab.kernel.accessAllowed ? 'block' : 'none';\n",
              "    })();\n",
              "  </script>\n",
              "</div>\n",
              "    </div>\n",
              "  </div>\n"
            ]
          },
          "metadata": {},
          "execution_count": 8
        }
      ],
      "source": [
        "df2"
      ]
    },
    {
      "cell_type": "code",
      "execution_count": null,
      "metadata": {
        "id": "i0u7QqWEosqu"
      },
      "outputs": [],
      "source": [
        "P = df2['Last']\n",
        "S0 = 434.77\n",
        "K = df2['Strike']\n",
        "r = 0.05 #interest rate - set to Feds Funds rate?!?\n",
        "tau = df2[\"TimeToExp\"]"
      ]
    },
    {
      "cell_type": "code",
      "execution_count": null,
      "metadata": {
        "colab": {
          "base_uri": "https://localhost:8080/",
          "height": 176
        },
        "id": "Q_HaipuKY5-q",
        "outputId": "37b61dd4-e76e-45d1-8adb-ec1ed4978241"
      },
      "outputs": [
        {
          "output_type": "error",
          "ename": "NameError",
          "evalue": "ignored",
          "traceback": [
            "\u001b[0;31m---------------------------------------------------------------------------\u001b[0m",
            "\u001b[0;31mNameError\u001b[0m                                 Traceback (most recent call last)",
            "\u001b[0;32m<ipython-input-10-09a8e026a727>\u001b[0m in \u001b[0;36m<cell line: 1>\u001b[0;34m()\u001b[0m\n\u001b[0;32m----> 1\u001b[0;31m \u001b[0mheston_price_rec\u001b[0m\u001b[0;34m(\u001b[0m\u001b[0mS0\u001b[0m\u001b[0;34m,\u001b[0m \u001b[0;36m340\u001b[0m\u001b[0;34m,\u001b[0m \u001b[0mv0\u001b[0m\u001b[0;34m,\u001b[0m \u001b[0mkappa\u001b[0m\u001b[0;34m,\u001b[0m \u001b[0mtheta\u001b[0m\u001b[0;34m,\u001b[0m \u001b[0msigma\u001b[0m\u001b[0;34m,\u001b[0m \u001b[0mrho\u001b[0m\u001b[0;34m,\u001b[0m \u001b[0;36m0\u001b[0m\u001b[0;34m,\u001b[0m \u001b[0mr\u001b[0m\u001b[0;34m)\u001b[0m\u001b[0;34m\u001b[0m\u001b[0;34m\u001b[0m\u001b[0m\n\u001b[0m",
            "\u001b[0;31mNameError\u001b[0m: name 'v0' is not defined"
          ]
        }
      ],
      "source": [
        "heston_price_rec(S0, 340, v0, kappa, theta, sigma, rho, 0, r)"
      ]
    },
    {
      "cell_type": "code",
      "execution_count": null,
      "metadata": {
        "colab": {
          "background_save": true
        },
        "id": "jbPcYZPdWzxH",
        "outputId": "d6c67c30-7954-4cc5-85e4-6f6e960897f3"
      },
      "outputs": [
        {
          "name": "stdout",
          "output_type": "stream",
          "text": [
            "  message: CONVERGENCE: REL_REDUCTION_OF_F_<=_FACTR*EPSMCH\n",
            "  success: True\n",
            "   status: 0\n",
            "      fun: 276178.86114028073\n",
            "        x: [ 1.851e-02  4.986e+00  2.119e-02  9.930e-01  0.000e+00]\n",
            "      nit: 9\n",
            "      jac: [-4.926e+03 -8.155e+02 -6.003e+03  5.800e+03 -3.038e+04]\n",
            "     nfev: 72\n",
            "     njev: 12\n",
            " hess_inv: <5x5 LbfgsInvHessProduct with dtype=float64>\n"
          ]
        }
      ],
      "source": [
        "#This is the calibration of the Heston Model. Takes forever to run, so I have just written the result of the calibration in the subsequent block.\n",
        "params = {\"v0\": {\"x0\": 0.1, \"lbub\": [1e-3,0.2]},\n",
        "          \"kappa\": {\"x0\": 3, \"lbub\": [1e-3,5]},\n",
        "          \"theta\": {\"x0\": 0.05, \"lbub\": [1e-3,0.1]},\n",
        "          \"sigma\": {\"x0\": 0.3, \"lbub\": [1e-2,1]},\n",
        "          \"rho\": {\"x0\": -0.8, \"lbub\": [-1,0]},\n",
        "          }\n",
        "x0 = [param[\"x0\"] for key, param in params.items()]\n",
        "bnds = [param[\"lbub\"] for key, param in params.items()]\n",
        "def SqErr(x):\n",
        "    v0, kappa, theta, sigma, rho = [param for param in x]\n",
        "\n",
        "    # Decided to use rectangular integration function in the end\n",
        "    err = np.sum( (P-heston_price_rec(S0, K, v0, kappa, theta, sigma, rho, tau, r))**2 )\n",
        "\n",
        "    # Zero penalty term - no good guesses for parameters\n",
        "    pen = 0 #np.sum( [(x_i-x0_i)**2 for x_i, x0_i in zip(x, x0)] )\n",
        "\n",
        "    return err + pen\n",
        "result = minimize(SqErr, x0, tol = 1e-3, method='L-BFGS-B', options={'maxiter': 1e4 }, bounds=bnds)\n",
        "v0, kappa, theta, sigma, rho = [param for param in result.x]\n",
        "v0, kappa, theta, sigma, rho\n",
        "\n",
        "print(result)"
      ]
    },
    {
      "cell_type": "code",
      "execution_count": null,
      "metadata": {
        "id": "2AtSmjp9Nkn2"
      },
      "outputs": [],
      "source": [
        "v0 = 0.08556582149362034\n",
        "kappa = 3.2915995657854475\n",
        "theta = 0.04285581063825\n",
        "sigma = 0.40205984\n",
        "rho = -0.82915995657"
      ]
    },
    {
      "cell_type": "code",
      "execution_count": null,
      "metadata": {
        "colab": {
          "base_uri": "https://localhost:8080/"
        },
        "id": "vA2BvwWqbWmJ",
        "outputId": "96aa659f-497e-4cf2-e5cd-aabf1b149913"
      },
      "outputs": [
        {
          "output_type": "stream",
          "name": "stdout",
          "text": [
            "[1461, 348, 1052, 1171, 1432, 1189, 167, 1550, 490, 906, 2528, 748, 2529, 1100, 1966, 2038, 2695, 169, 305, 507, 2138, 2158, 1182, 1239, 2283, 17, 1876, 1055, 1842, 555, 2398, 534, 876, 1693, 780, 2316, 2679, 1380, 1353, 647, 1399, 46, 700, 2345, 270, 1175, 671, 1283, 1067, 837, 2054, 1287, 210, 1834, 918, 373, 2752, 36, 2493, 2346, 933, 1328, 2688, 1864, 294, 1025, 96, 1723, 1754, 1161, 2435, 2284, 2142, 139, 52, 2440, 2367, 2192, 2538, 2464, 1005, 2200, 1856, 1817, 1360, 2468, 1476, 1280, 2017, 657, 1260, 2262, 2187, 1206, 1632, 1560, 574, 721, 760, 2424]\n"
          ]
        }
      ],
      "source": [
        "#Now want to price 100 randomly chosen options from the data set\n",
        "import random\n",
        "indices = list(range(0,2769))\n",
        "\n",
        "option_indices = random.sample(indices,100)\n",
        "print(option_indices)"
      ]
    },
    {
      "cell_type": "code",
      "execution_count": null,
      "metadata": {
        "id": "0HHpIeCYcmRL"
      },
      "outputs": [],
      "source": [
        "heston_prices = []\n",
        "for i in option_indices:\n",
        "  price = heston_price_rec(S0, df2[\"Strike\"][i], v0, kappa, theta, sigma, rho, df2[\"TimeToExp\"][i], r)\n",
        "  heston_prices.append(price)"
      ]
    },
    {
      "cell_type": "code",
      "execution_count": null,
      "metadata": {
        "colab": {
          "base_uri": "https://localhost:8080/"
        },
        "id": "6xYo7sAtdteL",
        "outputId": "69e86b01-f36b-4ec4-b53a-f098060fd9ac"
      },
      "outputs": [
        {
          "name": "stdout",
          "output_type": "stream",
          "text": [
            "31.280871687895612\n",
            "2737\n"
          ]
        },
        {
          "data": {
            "text/plain": [
              "0.13"
            ]
          },
          "execution_count": 24,
          "metadata": {},
          "output_type": "execute_result"
        }
      ],
      "source": [
        "print(heston_prices[16])\n",
        "print(option_indices[16])\n",
        "df2[\"Last\"][2357]"
      ]
    },
    {
      "cell_type": "code",
      "execution_count": null,
      "metadata": {
        "colab": {
          "base_uri": "https://localhost:8080/"
        },
        "id": "3xmDpxX8gsPB",
        "outputId": "f4628c78-538c-4178-9579-2fe252457d8c"
      },
      "outputs": [
        {
          "output_type": "execute_result",
          "data": {
            "text/plain": [
              "2409    38.74\n",
              "782      0.80\n",
              "261     15.74\n",
              "601     47.72\n",
              "1775    62.72\n",
              "        ...  \n",
              "2327     3.25\n",
              "1696    22.49\n",
              "325      0.01\n",
              "1353    58.10\n",
              "1064    62.97\n",
              "Name: Last, Length: 100, dtype: float64"
            ]
          },
          "metadata": {},
          "execution_count": 16
        }
      ],
      "source": [
        "df2[\"Last\"][option_indices]"
      ]
    },
    {
      "cell_type": "code",
      "execution_count": null,
      "metadata": {
        "colab": {
          "base_uri": "https://localhost:8080/",
          "height": 449
        },
        "id": "6TpUaLzTf-6Y",
        "outputId": "c4a81c2e-2d65-4aaf-d20d-43831f481459"
      },
      "outputs": [
        {
          "output_type": "display_data",
          "data": {
            "text/plain": [
              "<Figure size 640x480 with 1 Axes>"
            ],
            "image/png": "[encoded data removed]"
          },
          "metadata": {}
        }
      ],
      "source": [
        "index = list(range(1,101))\n",
        "plt.plot(index, df2[\"Last\"][option_indices], \"o\", label = \"Market Prices\")\n",
        "plt.plot(index, heston_prices, \"o\", label = \"Heston Prices\")\n",
        "plt.xlabel(\"Index\")\n",
        "plt.ylabel(\"Price\")\n",
        "plt.legend()\n",
        "plt.show()"
      ]
    },
    {
      "cell_type": "code",
      "execution_count": null,
      "metadata": {
        "colab": {
          "base_uri": "https://localhost:8080/",
          "height": 447
        },
        "id": "FgO_1-0_iSZP",
        "outputId": "f4bb82bb-3b60-417c-d5ba-74efbb66873c"
      },
      "outputs": [
        {
          "output_type": "execute_result",
          "data": {
            "text/plain": [
              "[<matplotlib.lines.Line2D at 0x7bbe2bab2680>]"
            ]
          },
          "metadata": {},
          "execution_count": 21
        },
        {
          "output_type": "display_data",
          "data": {
            "text/plain": [
              "<Figure size 640x480 with 1 Axes>"
            ],
            "image/png": "[encoded data removed]"
          },
          "metadata": {}
        }
      ],
      "source": [
        "error = np.abs((df2[\"Last\"][option_indices] - heston_prices)/df2[\"Last\"][option_indices])\n",
        "plt.plot(index, error)"
      ]
    },
    {
      "cell_type": "code",
      "execution_count": null,
      "metadata": {
        "colab": {
          "base_uri": "https://localhost:8080/",
          "height": 449
        },
        "id": "OIE0fSSNkFZ_",
        "outputId": "1551a40b-fcb9-4f24-9f81-320723741ad1"
      },
      "outputs": [
        {
          "output_type": "display_data",
          "data": {
            "text/plain": [
              "<Figure size 640x480 with 1 Axes>"
            ],
            "image/png": "[encoded data removed]"
          },
          "metadata": {}
        }
      ],
      "source": [
        "error = np.abs((np.array(df2[\"Last\"][option_indices]) - np.array(heston_prices))/np.array(df2[\"Last\"][option_indices]))\n",
        "plt.plot(index, error)\n",
        "plt.xlabel(\"Index\")\n",
        "plt.ylabel(\"Absolute Percentage Error\")\n",
        "plt.show()"
      ]
    },
    {
      "cell_type": "code",
      "source": [
        "plt.plot(index, df2[\"Strike\"][option_indices], \"o\")\n",
        "plt.xlabel(\"Index\")\n",
        "plt.ylabel(\"Strike Price\")\n",
        "plt.show()"
      ],
      "metadata": {
        "colab": {
          "base_uri": "https://localhost:8080/",
          "height": 449
        },
        "id": "1SdMpL6IW6qh",
        "outputId": "4882363b-63b6-460e-b0e5-d5fbf5270ea2"
      },
      "execution_count": null,
      "outputs": [
        {
          "output_type": "display_data",
          "data": {
            "text/plain": [
              "<Figure size 640x480 with 1 Axes>"
            ],
            "image/png": "[encoded data removed]"
          },
          "metadata": {}
        }
      ]
    },
    {
      "cell_type": "code",
      "source": [
        "plt.plot(index, df2[\"TimeToExp\"][option_indices], \"o\")\n",
        "plt.xlabel(\"Index\")\n",
        "plt.ylabel(\"Time to Maturity\")\n",
        "plt.show()"
      ],
      "metadata": {
        "colab": {
          "base_uri": "https://localhost:8080/",
          "height": 449
        },
        "id": "exffJlVsXRHn",
        "outputId": "41ab7521-0de0-4db9-de2b-15e48a6bb92b"
      },
      "execution_count": null,
      "outputs": [
        {
          "output_type": "display_data",
          "data": {
            "text/plain": [
              "<Figure size 640x480 with 1 Axes>"
            ],
            "image/png": "[encoded data removed]"
          },
          "metadata": {}
        }
      ]
    },
    {
      "cell_type": "code",
      "execution_count": null,
      "metadata": {
        "colab": {
          "base_uri": "https://localhost:8080/",
          "height": 634
        },
        "id": "ScIMXKqIszae",
        "outputId": "80708f54-e70a-464b-a357-36e7d8231b10"
      },
      "outputs": [
        {
          "output_type": "execute_result",
          "data": {
            "text/plain": [
              "      Unnamed: 0          ContractID ConractSize Currency  Expiration  Strike  \\\n",
              "46            47  SPY231107C00436000     REGULAR      USD  2023-11-07   436.0   \n",
              "47            48  SPY231107C00437000     REGULAR      USD  2023-11-07   437.0   \n",
              "48            49  SPY231107C00438000     REGULAR      USD  2023-11-07   438.0   \n",
              "49            50  SPY231107C00439000     REGULAR      USD  2023-11-07   439.0   \n",
              "50            51  SPY231107C00440000     REGULAR      USD  2023-11-07   440.0   \n",
              "...          ...                 ...         ...      ...         ...     ...   \n",
              "2764        2765  SPY250321C00645000     REGULAR      USD  2025-03-21   645.0   \n",
              "2765        2766  SPY250321C00650000     REGULAR      USD  2025-03-21   650.0   \n",
              "2766        2767  SPY250321C00670000     REGULAR      USD  2025-03-21   670.0   \n",
              "2767        2768  SPY250321C00675000     REGULAR      USD  2025-03-21   675.0   \n",
              "2768        2769  SPY250321C00680000     REGULAR      USD  2025-03-21   680.0   \n",
              "\n",
              "      Last  Chg  ChgPct  Bid   Ask       Vol     OI        LastTradeTime  \\\n",
              "46    0.82    0       0  0.0  0.00  127296.0  16875  2023-11-06 16:14:58   \n",
              "47    0.46    0       0  0.0  0.00   60937.0  10674  2023-11-06 16:14:56   \n",
              "48    0.23    0       0  0.0  0.00   49005.0  16762  2023-11-06 16:14:58   \n",
              "49    0.10    0       0  0.0  0.00   42902.0  22248  2023-11-06 16:14:57   \n",
              "50    0.05    0       0  0.0  0.00   24796.0  11818  2023-11-06 16:14:45   \n",
              "...    ...  ...     ...  ...   ...       ...    ...                  ...   \n",
              "2764  0.51    0       0  0.0  0.83       1.0      2  2023-09-29 11:02:57   \n",
              "2765  0.40    0       0  0.0  0.00       1.0      2  2023-10-19 09:30:31   \n",
              "2766  0.25    0       0  0.0  0.00      11.0     21  2023-10-19 14:17:59   \n",
              "2767  0.20    0       0  0.0  0.00       2.0    143  2023-11-03 11:50:24   \n",
              "2768  0.20    0       0  0.0  0.00       5.0     76  2023-11-02 09:39:59   \n",
              "\n",
              "            IV    ITM  TimeToExp  log_moneyness  \n",
              "46    0.003916  False   0.000000      -0.000711  \n",
              "47    0.015635  False   0.000000      -0.003002  \n",
              "48    0.031260  False   0.000000      -0.005288  \n",
              "49    0.031260  False   0.000000      -0.007568  \n",
              "50    0.062509  False   0.000000      -0.009844  \n",
              "...        ...    ...        ...            ...  \n",
              "2764  0.165841  False   1.368925      -0.392319  \n",
              "2765  0.062509  False   1.368925      -0.400041  \n",
              "2766  0.062509  False   1.368925      -0.430347  \n",
              "2767  0.062509  False   1.368925      -0.437782  \n",
              "2768  0.062509  False   1.368925      -0.445162  \n",
              "\n",
              "[1243 rows x 18 columns]"
            ],
            "text/html": [
              "\n",
              "  <div id=\"df-427a76c4-e4e9-4228-9677-ab00a2a689fb\" class=\"colab-df-container\">\n",
              "    <div>\n",
              "<style scoped>\n",
              "    .dataframe tbody tr th:only-of-type {\n",
              "        vertical-align: middle;\n",
              "    }\n",
              "\n",
              "    .dataframe tbody tr th {\n",
              "        vertical-align: top;\n",
              "    }\n",
              "\n",
              "    .dataframe thead th {\n",
              "        text-align: right;\n",
              "    }\n",
              "</style>\n",
              "<table border=\"1\" class=\"dataframe\">\n",
              "  <thead>\n",
              "    <tr style=\"text-align: right;\">\n",
              "      <th></th>\n",
              "      <th>Unnamed: 0</th>\n",
              "      <th>ContractID</th>\n",
              "      <th>ConractSize</th>\n",
              "      <th>Currency</th>\n",
              "      <th>Expiration</th>\n",
              "      <th>Strike</th>\n",
              "      <th>Last</th>\n",
              "      <th>Chg</th>\n",
              "      <th>ChgPct</th>\n",
              "      <th>Bid</th>\n",
              "      <th>Ask</th>\n",
              "      <th>Vol</th>\n",
              "      <th>OI</th>\n",
              "      <th>LastTradeTime</th>\n",
              "      <th>IV</th>\n",
              "      <th>ITM</th>\n",
              "      <th>TimeToExp</th>\n",
              "      <th>log_moneyness</th>\n",
              "    </tr>\n",
              "  </thead>\n",
              "  <tbody>\n",
              "    <tr>\n",
              "      <th>46</th>\n",
              "      <td>47</td>\n",
              "      <td>SPY231107C00436000</td>\n",
              "      <td>REGULAR</td>\n",
              "      <td>USD</td>\n",
              "      <td>2023-11-07</td>\n",
              "      <td>436.0</td>\n",
              "      <td>0.82</td>\n",
              "      <td>0</td>\n",
              "      <td>0</td>\n",
              "      <td>0.0</td>\n",
              "      <td>0.00</td>\n",
              "      <td>127296.0</td>\n",
              "      <td>16875</td>\n",
              "      <td>2023-11-06 16:14:58</td>\n",
              "      <td>0.003916</td>\n",
              "      <td>False</td>\n",
              "      <td>0.000000</td>\n",
              "      <td>-0.000711</td>\n",
              "    </tr>\n",
              "    <tr>\n",
              "      <th>47</th>\n",
              "      <td>48</td>\n",
              "      <td>SPY231107C00437000</td>\n",
              "      <td>REGULAR</td>\n",
              "      <td>USD</td>\n",
              "      <td>2023-11-07</td>\n",
              "      <td>437.0</td>\n",
              "      <td>0.46</td>\n",
              "      <td>0</td>\n",
              "      <td>0</td>\n",
              "      <td>0.0</td>\n",
              "      <td>0.00</td>\n",
              "      <td>60937.0</td>\n",
              "      <td>10674</td>\n",
              "      <td>2023-11-06 16:14:56</td>\n",
              "      <td>0.015635</td>\n",
              "      <td>False</td>\n",
              "      <td>0.000000</td>\n",
              "      <td>-0.003002</td>\n",
              "    </tr>\n",
              "    <tr>\n",
              "      <th>48</th>\n",
              "      <td>49</td>\n",
              "      <td>SPY231107C00438000</td>\n",
              "      <td>REGULAR</td>\n",
              "      <td>USD</td>\n",
              "      <td>2023-11-07</td>\n",
              "      <td>438.0</td>\n",
              "      <td>0.23</td>\n",
              "      <td>0</td>\n",
              "      <td>0</td>\n",
              "      <td>0.0</td>\n",
              "      <td>0.00</td>\n",
              "      <td>49005.0</td>\n",
              "      <td>16762</td>\n",
              "      <td>2023-11-06 16:14:58</td>\n",
              "      <td>0.031260</td>\n",
              "      <td>False</td>\n",
              "      <td>0.000000</td>\n",
              "      <td>-0.005288</td>\n",
              "    </tr>\n",
              "    <tr>\n",
              "      <th>49</th>\n",
              "      <td>50</td>\n",
              "      <td>SPY231107C00439000</td>\n",
              "      <td>REGULAR</td>\n",
              "      <td>USD</td>\n",
              "      <td>2023-11-07</td>\n",
              "      <td>439.0</td>\n",
              "      <td>0.10</td>\n",
              "      <td>0</td>\n",
              "      <td>0</td>\n",
              "      <td>0.0</td>\n",
              "      <td>0.00</td>\n",
              "      <td>42902.0</td>\n",
              "      <td>22248</td>\n",
              "      <td>2023-11-06 16:14:57</td>\n",
              "      <td>0.031260</td>\n",
              "      <td>False</td>\n",
              "      <td>0.000000</td>\n",
              "      <td>-0.007568</td>\n",
              "    </tr>\n",
              "    <tr>\n",
              "      <th>50</th>\n",
              "      <td>51</td>\n",
              "      <td>SPY231107C00440000</td>\n",
              "      <td>REGULAR</td>\n",
              "      <td>USD</td>\n",
              "      <td>2023-11-07</td>\n",
              "      <td>440.0</td>\n",
              "      <td>0.05</td>\n",
              "      <td>0</td>\n",
              "      <td>0</td>\n",
              "      <td>0.0</td>\n",
              "      <td>0.00</td>\n",
              "      <td>24796.0</td>\n",
              "      <td>11818</td>\n",
              "      <td>2023-11-06 16:14:45</td>\n",
              "      <td>0.062509</td>\n",
              "      <td>False</td>\n",
              "      <td>0.000000</td>\n",
              "      <td>-0.009844</td>\n",
              "    </tr>\n",
              "    <tr>\n",
              "      <th>...</th>\n",
              "      <td>...</td>\n",
              "      <td>...</td>\n",
              "      <td>...</td>\n",
              "      <td>...</td>\n",
              "      <td>...</td>\n",
              "      <td>...</td>\n",
              "      <td>...</td>\n",
              "      <td>...</td>\n",
              "      <td>...</td>\n",
              "      <td>...</td>\n",
              "      <td>...</td>\n",
              "      <td>...</td>\n",
              "      <td>...</td>\n",
              "      <td>...</td>\n",
              "      <td>...</td>\n",
              "      <td>...</td>\n",
              "      <td>...</td>\n",
              "      <td>...</td>\n",
              "    </tr>\n",
              "    <tr>\n",
              "      <th>2764</th>\n",
              "      <td>2765</td>\n",
              "      <td>SPY250321C00645000</td>\n",
              "      <td>REGULAR</td>\n",
              "      <td>USD</td>\n",
              "      <td>2025-03-21</td>\n",
              "      <td>645.0</td>\n",
              "      <td>0.51</td>\n",
              "      <td>0</td>\n",
              "      <td>0</td>\n",
              "      <td>0.0</td>\n",
              "      <td>0.83</td>\n",
              "      <td>1.0</td>\n",
              "      <td>2</td>\n",
              "      <td>2023-09-29 11:02:57</td>\n",
              "      <td>0.165841</td>\n",
              "      <td>False</td>\n",
              "      <td>1.368925</td>\n",
              "      <td>-0.392319</td>\n",
              "    </tr>\n",
              "    <tr>\n",
              "      <th>2765</th>\n",
              "      <td>2766</td>\n",
              "      <td>SPY250321C00650000</td>\n",
              "      <td>REGULAR</td>\n",
              "      <td>USD</td>\n",
              "      <td>2025-03-21</td>\n",
              "      <td>650.0</td>\n",
              "      <td>0.40</td>\n",
              "      <td>0</td>\n",
              "      <td>0</td>\n",
              "      <td>0.0</td>\n",
              "      <td>0.00</td>\n",
              "      <td>1.0</td>\n",
              "      <td>2</td>\n",
              "      <td>2023-10-19 09:30:31</td>\n",
              "      <td>0.062509</td>\n",
              "      <td>False</td>\n",
              "      <td>1.368925</td>\n",
              "      <td>-0.400041</td>\n",
              "    </tr>\n",
              "    <tr>\n",
              "      <th>2766</th>\n",
              "      <td>2767</td>\n",
              "      <td>SPY250321C00670000</td>\n",
              "      <td>REGULAR</td>\n",
              "      <td>USD</td>\n",
              "      <td>2025-03-21</td>\n",
              "      <td>670.0</td>\n",
              "      <td>0.25</td>\n",
              "      <td>0</td>\n",
              "      <td>0</td>\n",
              "      <td>0.0</td>\n",
              "      <td>0.00</td>\n",
              "      <td>11.0</td>\n",
              "      <td>21</td>\n",
              "      <td>2023-10-19 14:17:59</td>\n",
              "      <td>0.062509</td>\n",
              "      <td>False</td>\n",
              "      <td>1.368925</td>\n",
              "      <td>-0.430347</td>\n",
              "    </tr>\n",
              "    <tr>\n",
              "      <th>2767</th>\n",
              "      <td>2768</td>\n",
              "      <td>SPY250321C00675000</td>\n",
              "      <td>REGULAR</td>\n",
              "      <td>USD</td>\n",
              "      <td>2025-03-21</td>\n",
              "      <td>675.0</td>\n",
              "      <td>0.20</td>\n",
              "      <td>0</td>\n",
              "      <td>0</td>\n",
              "      <td>0.0</td>\n",
              "      <td>0.00</td>\n",
              "      <td>2.0</td>\n",
              "      <td>143</td>\n",
              "      <td>2023-11-03 11:50:24</td>\n",
              "      <td>0.062509</td>\n",
              "      <td>False</td>\n",
              "      <td>1.368925</td>\n",
              "      <td>-0.437782</td>\n",
              "    </tr>\n",
              "    <tr>\n",
              "      <th>2768</th>\n",
              "      <td>2769</td>\n",
              "      <td>SPY250321C00680000</td>\n",
              "      <td>REGULAR</td>\n",
              "      <td>USD</td>\n",
              "      <td>2025-03-21</td>\n",
              "      <td>680.0</td>\n",
              "      <td>0.20</td>\n",
              "      <td>0</td>\n",
              "      <td>0</td>\n",
              "      <td>0.0</td>\n",
              "      <td>0.00</td>\n",
              "      <td>5.0</td>\n",
              "      <td>76</td>\n",
              "      <td>2023-11-02 09:39:59</td>\n",
              "      <td>0.062509</td>\n",
              "      <td>False</td>\n",
              "      <td>1.368925</td>\n",
              "      <td>-0.445162</td>\n",
              "    </tr>\n",
              "  </tbody>\n",
              "</table>\n",
              "<p>1243 rows × 18 columns</p>\n",
              "</div>\n",
              "    <div class=\"colab-df-buttons\">\n",
              "\n",
              "  <div class=\"colab-df-container\">\n",
              "    <button class=\"colab-df-convert\" onclick=\"convertToInteractive('df-427a76c4-e4e9-4228-9677-ab00a2a689fb')\"\n",
              "            title=\"Convert this dataframe to an interactive table.\"\n",
              "            style=\"display:none;\">\n",
              "\n",
              "  <svg xmlns=\"http://www.w3.org/2000/svg\" height=\"24px\" viewBox=\"0 -960 960 960\">\n",
              "    <path d=\"M120-120v-720h720v720H120Zm60-500h600v-160H180v160Zm220 220h160v-160H400v160Zm0 220h160v-160H400v160ZM180-400h160v-160H180v160Zm440 0h160v-160H620v160ZM180-180h160v-160H180v160Zm440 0h160v-160H620v160Z\"/>\n",
              "  </svg>\n",
              "    </button>\n",
              "\n",
              "  <style>\n",
              "    .colab-df-container {\n",
              "      display:flex;\n",
              "      gap: 12px;\n",
              "    }\n",
              "\n",
              "    .colab-df-convert {\n",
              "      background-color: #E8F0FE;\n",
              "      border: none;\n",
              "      border-radius: 50%;\n",
              "      cursor: pointer;\n",
              "      display: none;\n",
              "      fill: #1967D2;\n",
              "      height: 32px;\n",
              "      padding: 0 0 0 0;\n",
              "      width: 32px;\n",
              "    }\n",
              "\n",
              "    .colab-df-convert:hover {\n",
              "      background-color: #E2EBFA;\n",
              "      box-shadow: 0px 1px 2px rgba(60, 64, 67, 0.3), 0px 1px 3px 1px rgba(60, 64, 67, 0.15);\n",
              "      fill: #174EA6;\n",
              "    }\n",
              "\n",
              "    .colab-df-buttons div {\n",
              "      margin-bottom: 4px;\n",
              "    }\n",
              "\n",
              "    [theme=dark] .colab-df-convert {\n",
              "      background-color: #3B4455;\n",
              "      fill: #D2E3FC;\n",
              "    }\n",
              "\n",
              "    [theme=dark] .colab-df-convert:hover {\n",
              "      background-color: #434B5C;\n",
              "      box-shadow: 0px 1px 3px 1px rgba(0, 0, 0, 0.15);\n",
              "      filter: drop-shadow(0px 1px 2px rgba(0, 0, 0, 0.3));\n",
              "      fill: #FFFFFF;\n",
              "    }\n",
              "  </style>\n",
              "\n",
              "    <script>\n",
              "      const buttonEl =\n",
              "        document.querySelector('#df-427a76c4-e4e9-4228-9677-ab00a2a689fb button.colab-df-convert');\n",
              "      buttonEl.style.display =\n",
              "        google.colab.kernel.accessAllowed ? 'block' : 'none';\n",
              "\n",
              "      async function convertToInteractive(key) {\n",
              "        const element = document.querySelector('#df-427a76c4-e4e9-4228-9677-ab00a2a689fb');\n",
              "        const dataTable =\n",
              "          await google.colab.kernel.invokeFunction('convertToInteractive',\n",
              "                                                    [key], {});\n",
              "        if (!dataTable) return;\n",
              "\n",
              "        const docLinkHtml = 'Like what you see? Visit the ' +\n",
              "          '<a target=\"_blank\" href=https://colab.research.google.com/notebooks/data_table.ipynb>data table notebook</a>'\n",
              "          + ' to learn more about interactive tables.';\n",
              "        element.innerHTML = '';\n",
              "        dataTable['output_type'] = 'display_data';\n",
              "        await google.colab.output.renderOutput(dataTable, element);\n",
              "        const docLink = document.createElement('div');\n",
              "        docLink.innerHTML = docLinkHtml;\n",
              "        element.appendChild(docLink);\n",
              "      }\n",
              "    </script>\n",
              "  </div>\n",
              "\n",
              "\n",
              "<div id=\"df-9c811f84-dbc2-4e81-9035-5ae39b806314\">\n",
              "  <button class=\"colab-df-quickchart\" onclick=\"quickchart('df-9c811f84-dbc2-4e81-9035-5ae39b806314')\"\n",
              "            title=\"Suggest charts\"\n",
              "            style=\"display:none;\">\n",
              "\n",
              "<svg xmlns=\"http://www.w3.org/2000/svg\" height=\"24px\"viewBox=\"0 0 24 24\"\n",
              "     width=\"24px\">\n",
              "    <g>\n",
              "        <path d=\"M19 3H5c-1.1 0-2 .9-2 2v14c0 1.1.9 2 2 2h14c1.1 0 2-.9 2-2V5c0-1.1-.9-2-2-2zM9 17H7v-7h2v7zm4 0h-2V7h2v10zm4 0h-2v-4h2v4z\"/>\n",
              "    </g>\n",
              "</svg>\n",
              "  </button>\n",
              "\n",
              "<style>\n",
              "  .colab-df-quickchart {\n",
              "      --bg-color: #E8F0FE;\n",
              "      --fill-color: #1967D2;\n",
              "      --hover-bg-color: #E2EBFA;\n",
              "      --hover-fill-color: #174EA6;\n",
              "      --disabled-fill-color: #AAA;\n",
              "      --disabled-bg-color: #DDD;\n",
              "  }\n",
              "\n",
              "  [theme=dark] .colab-df-quickchart {\n",
              "      --bg-color: #3B4455;\n",
              "      --fill-color: #D2E3FC;\n",
              "      --hover-bg-color: #434B5C;\n",
              "      --hover-fill-color: #FFFFFF;\n",
              "      --disabled-bg-color: #3B4455;\n",
              "      --disabled-fill-color: #666;\n",
              "  }\n",
              "\n",
              "  .colab-df-quickchart {\n",
              "    background-color: var(--bg-color);\n",
              "    border: none;\n",
              "    border-radius: 50%;\n",
              "    cursor: pointer;\n",
              "    display: none;\n",
              "    fill: var(--fill-color);\n",
              "    height: 32px;\n",
              "    padding: 0;\n",
              "    width: 32px;\n",
              "  }\n",
              "\n",
              "  .colab-df-quickchart:hover {\n",
              "    background-color: var(--hover-bg-color);\n",
              "    box-shadow: 0 1px 2px rgba(60, 64, 67, 0.3), 0 1px 3px 1px rgba(60, 64, 67, 0.15);\n",
              "    fill: var(--button-hover-fill-color);\n",
              "  }\n",
              "\n",
              "  .colab-df-quickchart-complete:disabled,\n",
              "  .colab-df-quickchart-complete:disabled:hover {\n",
              "    background-color: var(--disabled-bg-color);\n",
              "    fill: var(--disabled-fill-color);\n",
              "    box-shadow: none;\n",
              "  }\n",
              "\n",
              "  .colab-df-spinner {\n",
              "    border: 2px solid var(--fill-color);\n",
              "    border-color: transparent;\n",
              "    border-bottom-color: var(--fill-color);\n",
              "    animation:\n",
              "      spin 1s steps(1) infinite;\n",
              "  }\n",
              "\n",
              "  @keyframes spin {\n",
              "    0% {\n",
              "      border-color: transparent;\n",
              "      border-bottom-color: var(--fill-color);\n",
              "      border-left-color: var(--fill-color);\n",
              "    }\n",
              "    20% {\n",
              "      border-color: transparent;\n",
              "      border-left-color: var(--fill-color);\n",
              "      border-top-color: var(--fill-color);\n",
              "    }\n",
              "    30% {\n",
              "      border-color: transparent;\n",
              "      border-left-color: var(--fill-color);\n",
              "      border-top-color: var(--fill-color);\n",
              "      border-right-color: var(--fill-color);\n",
              "    }\n",
              "    40% {\n",
              "      border-color: transparent;\n",
              "      border-right-color: var(--fill-color);\n",
              "      border-top-color: var(--fill-color);\n",
              "    }\n",
              "    60% {\n",
              "      border-color: transparent;\n",
              "      border-right-color: var(--fill-color);\n",
              "    }\n",
              "    80% {\n",
              "      border-color: transparent;\n",
              "      border-right-color: var(--fill-color);\n",
              "      border-bottom-color: var(--fill-color);\n",
              "    }\n",
              "    90% {\n",
              "      border-color: transparent;\n",
              "      border-bottom-color: var(--fill-color);\n",
              "    }\n",
              "  }\n",
              "</style>\n",
              "\n",
              "  <script>\n",
              "    async function quickchart(key) {\n",
              "      const quickchartButtonEl =\n",
              "        document.querySelector('#' + key + ' button');\n",
              "      quickchartButtonEl.disabled = true;  // To prevent multiple clicks.\n",
              "      quickchartButtonEl.classList.add('colab-df-spinner');\n",
              "      try {\n",
              "        const charts = await google.colab.kernel.invokeFunction(\n",
              "            'suggestCharts', [key], {});\n",
              "      } catch (error) {\n",
              "        console.error('Error during call to suggestCharts:', error);\n",
              "      }\n",
              "      quickchartButtonEl.classList.remove('colab-df-spinner');\n",
              "      quickchartButtonEl.classList.add('colab-df-quickchart-complete');\n",
              "    }\n",
              "    (() => {\n",
              "      let quickchartButtonEl =\n",
              "        document.querySelector('#df-9c811f84-dbc2-4e81-9035-5ae39b806314 button');\n",
              "      quickchartButtonEl.style.display =\n",
              "        google.colab.kernel.accessAllowed ? 'block' : 'none';\n",
              "    })();\n",
              "  </script>\n",
              "</div>\n",
              "    </div>\n",
              "  </div>\n"
            ]
          },
          "metadata": {},
          "execution_count": 25
        }
      ],
      "source": [
        "sub_data = df2[df2['ITM'] == False]\n",
        "#sub_data = sub_data[sub_data[\"Expiration\"] == \"2023-11-10\"]\n",
        "sub_data"
      ]
    },
    {
      "cell_type": "code",
      "execution_count": null,
      "metadata": {
        "colab": {
          "base_uri": "https://localhost:8080/",
          "height": 447
        },
        "id": "lBLKnroksSv8",
        "outputId": "02b559f5-9732-4d51-fedf-fb4526924da3"
      },
      "outputs": [
        {
          "output_type": "execute_result",
          "data": {
            "text/plain": [
              "[<matplotlib.lines.Line2D at 0x7bbe2ba20190>]"
            ]
          },
          "metadata": {},
          "execution_count": 26
        },
        {
          "output_type": "display_data",
          "data": {
            "text/plain": [
              "<Figure size 640x480 with 1 Axes>"
            ],
            "image/png": "[encoded data removed]"
          },
          "metadata": {}
        }
      ],
      "source": [
        "plt.plot(sub_data['TimeToExp'], sub_data['IV'], \"o\")"
      ]
    },
    {
      "cell_type": "code",
      "execution_count": null,
      "metadata": {
        "id": "vJtPRcN2t0ov"
      },
      "outputs": [],
      "source": [
        "def BSM(S, K, vol, ttm):\n",
        "  d1 = ((np.log(S/K) + (vol**2)/2)*ttm)/(vol*np.sqrt(ttm))\n",
        "  d2 = d1 - vol*np.sqrt(ttm)\n",
        "  price = norm.cdf(d1)*S - K*norm.cdf(d2)\n",
        "  return price\n",
        "\n",
        "def impVol(price, S, K, ttm):\n",
        "  def f(vol):\n",
        "    res = price - BSM(S,K,vol,ttm)\n",
        "    return res\n",
        "  imp_vol = fsolve(f, [0,5])\n",
        "  imp_vol = imp_vol\n",
        "  return imp_vol"
      ]
    },
    {
      "cell_type": "code",
      "execution_count": null,
      "metadata": {
        "colab": {
          "base_uri": "https://localhost:8080/"
        },
        "id": "jWxHgu7nx5py",
        "outputId": "d54b5df6-61ac-498a-afd7-1c9c18c6fbe3"
      },
      "outputs": [
        {
          "output_type": "execute_result",
          "data": {
            "text/plain": [
              "5.935686847331883"
            ]
          },
          "metadata": {},
          "execution_count": 28
        }
      ],
      "source": [
        "heston_price_rec(S0, 435, v0, kappa, theta, sigma, rho, 0.013689, r)"
      ]
    },
    {
      "cell_type": "code",
      "execution_count": null,
      "metadata": {
        "colab": {
          "base_uri": "https://localhost:8080/"
        },
        "id": "Yl8lHuOEzpGL",
        "outputId": "a23976f9-01c6-4a40-b06a-932cc52303cc"
      },
      "outputs": [
        {
          "output_type": "execute_result",
          "data": {
            "text/plain": [
              "3.9768748221264607"
            ]
          },
          "metadata": {},
          "execution_count": 29
        }
      ],
      "source": [
        "impVol(135.5381, S0, 300, 0.013689)[0]"
      ]
    },
    {
      "cell_type": "code",
      "execution_count": null,
      "metadata": {
        "colab": {
          "base_uri": "https://localhost:8080/"
        },
        "id": "nQXwjltcwJ02",
        "outputId": "f4d2b2b7-8ac2-4a2b-d2c7-b5388dabd602"
      },
      "outputs": [
        {
          "output_type": "stream",
          "name": "stderr",
          "text": [
            "<ipython-input-27-55bc357cd69f>:2: RuntimeWarning: invalid value encountered in divide\n",
            "  d1 = ((np.log(S/K) + (vol**2)/2)*ttm)/(vol*np.sqrt(ttm))\n",
            "/usr/local/lib/python3.10/dist-packages/scipy/optimize/_minpack_py.py:177: RuntimeWarning: The iteration is not making good progress, as measured by the \n",
            "  improvement from the last ten iterations.\n",
            "  warnings.warn(msg, RuntimeWarning)\n",
            "/usr/local/lib/python3.10/dist-packages/scipy/optimize/_minpack_py.py:177: RuntimeWarning: The iteration is not making good progress, as measured by the \n",
            "  improvement from the last five Jacobian evaluations.\n",
            "  warnings.warn(msg, RuntimeWarning)\n"
          ]
        }
      ],
      "source": [
        "heston_implied_vols = []\n",
        "\n",
        "for i in sub_data.index:\n",
        "  heston_prices = heston_price_rec(S0, sub_data['Strike'][i], v0, kappa, theta, sigma, rho, sub_data['TimeToExp'][i], r = 0.05)\n",
        "  imp_vol = impVol(heston_prices, S0, sub_data['Strike'][i], sub_data['TimeToExp'][i])\n",
        "  heston_implied_vols.append(imp_vol[0])"
      ]
    },
    {
      "cell_type": "code",
      "execution_count": null,
      "metadata": {
        "colab": {
          "base_uri": "https://localhost:8080/",
          "height": 447
        },
        "id": "VsUbniRh7S5P",
        "outputId": "3943f72c-2945-4153-aeb4-e15d2203f791"
      },
      "outputs": [
        {
          "output_type": "execute_result",
          "data": {
            "text/plain": [
              "[<matplotlib.lines.Line2D at 0x7bbe2b8be9b0>]"
            ]
          },
          "metadata": {},
          "execution_count": 31
        },
        {
          "output_type": "display_data",
          "data": {
            "text/plain": [
              "<Figure size 640x480 with 1 Axes>"
            ],
            "image/png": "[encoded data removed]"
          },
          "metadata": {}
        }
      ],
      "source": [
        "plt.plot(sub_data['Strike'], heston_implied_vols, \"o\")"
      ]
    },
    {
      "cell_type": "code",
      "execution_count": null,
      "metadata": {
        "colab": {
          "base_uri": "https://localhost:8080/",
          "height": 430
        },
        "id": "YhEwYSeHQ_ux",
        "outputId": "71c31ed7-b2c5-4b5a-b2be-6b08924b4c3e"
      },
      "outputs": [
        {
          "output_type": "display_data",
          "data": {
            "text/plain": [
              "<Figure size 640x480 with 1 Axes>"
            ],
            "image/png": "[encoded data removed]"
          },
          "metadata": {}
        }
      ],
      "source": [
        "plt.plot(sub_data['Strike'], sub_data['IV'], \"o\", label = \"B&S Implied Volatility\")\n",
        "plt.plot(sub_data['Strike'], heston_implied_vols, \"o\", color = \"darkgreen\", label = \"Heston Implied Volatility\")\n",
        "plt.legend()\n",
        "plt.show()"
      ]
    },
    {
      "cell_type": "code",
      "source": [
        "def g(x):\n",
        "  return 0.4*x**(0.13-0.5)\n",
        "\n",
        "x_vals = np.linspace(0, 1.5, 100)\n",
        "\n",
        "plt.plot(x_vals, g(x_vals))\n",
        "plt.plot(sub_data['TimeToExp'], heston_implied_vols, \"o\")\n",
        "plt.ylim(-0.1,3.1)\n",
        "plt.show()"
      ],
      "metadata": {
        "colab": {
          "base_uri": "https://localhost:8080/",
          "height": 465
        },
        "id": "8Zpk-gj_MPD_",
        "outputId": "99021b3f-7a44-404b-9f49-093e69a08c94"
      },
      "execution_count": null,
      "outputs": [
        {
          "output_type": "stream",
          "name": "stderr",
          "text": [
            "<ipython-input-43-329a9dd342ad>:2: RuntimeWarning: divide by zero encountered in power\n",
            "  return 0.4*x**(0.13-0.5)\n"
          ]
        },
        {
          "output_type": "display_data",
          "data": {
            "text/plain": [
              "<Figure size 640x480 with 1 Axes>"
            ],
            "image/png": "[encoded data removed]"
          },
          "metadata": {}
        }
      ]
    }
  ],
  "metadata": {
    "colab": {
      "provenance": [],
      "authorship_tag": "ABX9TyNwKNzRPa8LmLx2ZsY12Dvm",
      "include_colab_link": true
    },
    "kernelspec": {
      "display_name": "Python 3",
      "name": "python3"
    },
    "language_info": {
      "name": "python"
    }
  },
  "nbformat": 4,
  "nbformat_minor": 0
}